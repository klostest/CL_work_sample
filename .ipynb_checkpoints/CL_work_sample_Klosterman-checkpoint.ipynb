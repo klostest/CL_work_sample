{
 "cells": [
  {
   "cell_type": "markdown",
   "metadata": {},
   "source": [
    "# Carbon Lighthouse timed work sample\n",
    "Stephen Klosterman, steve.klosterman@gmail.com\n"
   ]
  },
  {
   "cell_type": "code",
   "execution_count": 2,
   "metadata": {
    "collapsed": false
   },
   "outputs": [],
   "source": [
    "#Load the data\n",
    "path = './carbonlighthousedatascientistmodeldevelopmentworks/'"
   ]
  },
  {
   "cell_type": "code",
   "execution_count": 3,
   "metadata": {
    "collapsed": true
   },
   "outputs": [],
   "source": [
    "training_data = 'Measured_Data.csv'\n",
    "predictions_data = 'Predicted_Weather.csv'"
   ]
  },
  {
   "cell_type": "code",
   "execution_count": 5,
   "metadata": {
    "collapsed": true
   },
   "outputs": [],
   "source": [
    "#Import packages\n",
    "import pandas as pd\n",
    "import io\n",
    "import requests\n",
    "import datetime\n",
    "import numpy as np\n",
    "import seaborn as sns\n",
    "import matplotlib.pyplot as plt\n",
    "%matplotlib inline\n",
    "\n",
    "import sklearn"
   ]
  },
  {
   "cell_type": "code",
   "execution_count": 125,
   "metadata": {
    "collapsed": false
   },
   "outputs": [],
   "source": [
    "df_train = pd.read_csv(path + training_data)"
   ]
  },
  {
   "cell_type": "code",
   "execution_count": 126,
   "metadata": {
    "collapsed": false
   },
   "outputs": [
    {
     "data": {
      "text/html": [
       "<div>\n",
       "<style>\n",
       "    .dataframe thead tr:only-child th {\n",
       "        text-align: right;\n",
       "    }\n",
       "\n",
       "    .dataframe thead th {\n",
       "        text-align: left;\n",
       "    }\n",
       "\n",
       "    .dataframe tbody tr th {\n",
       "        vertical-align: top;\n",
       "    }\n",
       "</style>\n",
       "<table border=\"1\" class=\"dataframe\">\n",
       "  <thead>\n",
       "    <tr style=\"text-align: right;\">\n",
       "      <th></th>\n",
       "      <th>Datetime</th>\n",
       "      <th>BuildingOccupied</th>\n",
       "      <th>OutdoorTemperature</th>\n",
       "      <th>OutdoorRelativeHumidity</th>\n",
       "      <th>ThermalCoolingLoad</th>\n",
       "    </tr>\n",
       "  </thead>\n",
       "  <tbody>\n",
       "    <tr>\n",
       "      <th>0</th>\n",
       "      <td>2/27/2017 0:00</td>\n",
       "      <td>0</td>\n",
       "      <td>44.240</td>\n",
       "      <td>85.33</td>\n",
       "      <td>0.0</td>\n",
       "    </tr>\n",
       "    <tr>\n",
       "      <th>1</th>\n",
       "      <td>2/27/2017 0:15</td>\n",
       "      <td>0</td>\n",
       "      <td>46.238</td>\n",
       "      <td>82.58</td>\n",
       "      <td>0.0</td>\n",
       "    </tr>\n",
       "    <tr>\n",
       "      <th>2</th>\n",
       "      <td>2/27/2017 0:30</td>\n",
       "      <td>0</td>\n",
       "      <td>50.630</td>\n",
       "      <td>74.88</td>\n",
       "      <td>0.0</td>\n",
       "    </tr>\n",
       "    <tr>\n",
       "      <th>3</th>\n",
       "      <td>2/27/2017 0:45</td>\n",
       "      <td>0</td>\n",
       "      <td>49.748</td>\n",
       "      <td>77.29</td>\n",
       "      <td>0.0</td>\n",
       "    </tr>\n",
       "    <tr>\n",
       "      <th>4</th>\n",
       "      <td>2/27/2017 1:00</td>\n",
       "      <td>0</td>\n",
       "      <td>50.234</td>\n",
       "      <td>76.31</td>\n",
       "      <td>0.0</td>\n",
       "    </tr>\n",
       "  </tbody>\n",
       "</table>\n",
       "</div>"
      ],
      "text/plain": [
       "         Datetime  BuildingOccupied  OutdoorTemperature  \\\n",
       "0  2/27/2017 0:00                 0              44.240   \n",
       "1  2/27/2017 0:15                 0              46.238   \n",
       "2  2/27/2017 0:30                 0              50.630   \n",
       "3  2/27/2017 0:45                 0              49.748   \n",
       "4  2/27/2017 1:00                 0              50.234   \n",
       "\n",
       "   OutdoorRelativeHumidity  ThermalCoolingLoad  \n",
       "0                    85.33                 0.0  \n",
       "1                    82.58                 0.0  \n",
       "2                    74.88                 0.0  \n",
       "3                    77.29                 0.0  \n",
       "4                    76.31                 0.0  "
      ]
     },
     "execution_count": 126,
     "metadata": {},
     "output_type": "execute_result"
    }
   ],
   "source": [
    "df_train.head()"
   ]
  },
  {
   "cell_type": "code",
   "execution_count": 12,
   "metadata": {
    "collapsed": false
   },
   "outputs": [
    {
     "data": {
      "text/plain": [
       "Datetime                   3665\n",
       "BuildingOccupied           3665\n",
       "OutdoorTemperature         3665\n",
       "OutdoorRelativeHumidity    3665\n",
       "ThermalCoolingLoad         3665\n",
       "dtype: int64"
      ]
     },
     "execution_count": 12,
     "metadata": {},
     "output_type": "execute_result"
    }
   ],
   "source": [
    "#How much data is there?\n",
    "df_train.count()"
   ]
  },
  {
   "cell_type": "code",
   "execution_count": 11,
   "metadata": {
    "collapsed": false
   },
   "outputs": [
    {
     "data": {
      "text/plain": [
       "3360"
      ]
     },
     "execution_count": 11,
     "metadata": {},
     "output_type": "execute_result"
    }
   ],
   "source": [
    "#Does the training data have five weeks of observations every 15 minutes?\n",
    "5*7*24*4"
   ]
  },
  {
   "cell_type": "markdown",
   "metadata": {},
   "source": [
    "Looks like yes"
   ]
  },
  {
   "cell_type": "code",
   "execution_count": 8,
   "metadata": {
    "collapsed": true
   },
   "outputs": [],
   "source": [
    "df_predict = pd.read_csv(path + predictions_data)"
   ]
  },
  {
   "cell_type": "code",
   "execution_count": 9,
   "metadata": {
    "collapsed": false
   },
   "outputs": [
    {
     "data": {
      "text/html": [
       "<div>\n",
       "<style>\n",
       "    .dataframe thead tr:only-child th {\n",
       "        text-align: right;\n",
       "    }\n",
       "\n",
       "    .dataframe thead th {\n",
       "        text-align: left;\n",
       "    }\n",
       "\n",
       "    .dataframe tbody tr th {\n",
       "        vertical-align: top;\n",
       "    }\n",
       "</style>\n",
       "<table border=\"1\" class=\"dataframe\">\n",
       "  <thead>\n",
       "    <tr style=\"text-align: right;\">\n",
       "      <th></th>\n",
       "      <th>Datetime</th>\n",
       "      <th>BuildingOccupied</th>\n",
       "      <th>OutdoorTemperature</th>\n",
       "      <th>OutdoorRelativeHumidity</th>\n",
       "    </tr>\n",
       "  </thead>\n",
       "  <tbody>\n",
       "    <tr>\n",
       "      <th>0</th>\n",
       "      <td>1/1/2018 0:00</td>\n",
       "      <td>0</td>\n",
       "      <td>48.2</td>\n",
       "      <td>87</td>\n",
       "    </tr>\n",
       "    <tr>\n",
       "      <th>1</th>\n",
       "      <td>1/1/2018 0:30</td>\n",
       "      <td>0</td>\n",
       "      <td>48.2</td>\n",
       "      <td>87</td>\n",
       "    </tr>\n",
       "    <tr>\n",
       "      <th>2</th>\n",
       "      <td>1/1/2018 1:00</td>\n",
       "      <td>0</td>\n",
       "      <td>50.0</td>\n",
       "      <td>82</td>\n",
       "    </tr>\n",
       "    <tr>\n",
       "      <th>3</th>\n",
       "      <td>1/1/2018 1:30</td>\n",
       "      <td>0</td>\n",
       "      <td>50.0</td>\n",
       "      <td>82</td>\n",
       "    </tr>\n",
       "    <tr>\n",
       "      <th>4</th>\n",
       "      <td>1/1/2018 2:00</td>\n",
       "      <td>0</td>\n",
       "      <td>50.0</td>\n",
       "      <td>82</td>\n",
       "    </tr>\n",
       "  </tbody>\n",
       "</table>\n",
       "</div>"
      ],
      "text/plain": [
       "        Datetime  BuildingOccupied  OutdoorTemperature  \\\n",
       "0  1/1/2018 0:00                 0                48.2   \n",
       "1  1/1/2018 0:30                 0                48.2   \n",
       "2  1/1/2018 1:00                 0                50.0   \n",
       "3  1/1/2018 1:30                 0                50.0   \n",
       "4  1/1/2018 2:00                 0                50.0   \n",
       "\n",
       "   OutdoorRelativeHumidity  \n",
       "0                       87  \n",
       "1                       87  \n",
       "2                       82  \n",
       "3                       82  \n",
       "4                       82  "
      ]
     },
     "execution_count": 9,
     "metadata": {},
     "output_type": "execute_result"
    }
   ],
   "source": [
    "df_predict.head()"
   ]
  },
  {
   "cell_type": "code",
   "execution_count": 13,
   "metadata": {
    "collapsed": false
   },
   "outputs": [
    {
     "data": {
      "text/plain": [
       "Datetime                   17520\n",
       "BuildingOccupied           17520\n",
       "OutdoorTemperature         17520\n",
       "OutdoorRelativeHumidity    17520\n",
       "dtype: int64"
      ]
     },
     "execution_count": 13,
     "metadata": {},
     "output_type": "execute_result"
    }
   ],
   "source": [
    "df_predict.count()"
   ]
  },
  {
   "cell_type": "code",
   "execution_count": 14,
   "metadata": {
    "collapsed": false
   },
   "outputs": [
    {
     "data": {
      "text/plain": [
       "17520"
      ]
     },
     "execution_count": 14,
     "metadata": {},
     "output_type": "execute_result"
    }
   ],
   "source": [
    "365*24*2"
   ]
  },
  {
   "cell_type": "markdown",
   "metadata": {},
   "source": [
    "Looks like right number of rows here as well."
   ]
  },
  {
   "cell_type": "markdown",
   "metadata": {},
   "source": [
    "# Data exploration\n",
    "Is there missing data?"
   ]
  },
  {
   "cell_type": "code",
   "execution_count": 17,
   "metadata": {
    "collapsed": false
   },
   "outputs": [
    {
     "data": {
      "text/plain": [
       "Datetime                   0\n",
       "BuildingOccupied           0\n",
       "OutdoorTemperature         0\n",
       "OutdoorRelativeHumidity    0\n",
       "ThermalCoolingLoad         0\n",
       "dtype: int64"
      ]
     },
     "execution_count": 17,
     "metadata": {},
     "output_type": "execute_result"
    }
   ],
   "source": [
    "df_train.isnull().sum()"
   ]
  },
  {
   "cell_type": "code",
   "execution_count": 18,
   "metadata": {
    "collapsed": false
   },
   "outputs": [
    {
     "data": {
      "text/plain": [
       "Datetime                   0\n",
       "BuildingOccupied           0\n",
       "OutdoorTemperature         0\n",
       "OutdoorRelativeHumidity    0\n",
       "dtype: int64"
      ]
     },
     "execution_count": 18,
     "metadata": {},
     "output_type": "execute_result"
    }
   ],
   "source": [
    "df_predict.isnull().sum()"
   ]
  },
  {
   "cell_type": "markdown",
   "metadata": {},
   "source": [
    "No missing values in either data set.\n",
    "\n",
    "What does the training data look like?"
   ]
  },
  {
   "cell_type": "code",
   "execution_count": 19,
   "metadata": {
    "collapsed": false
   },
   "outputs": [
    {
     "data": {
      "text/plain": [
       "array([[<matplotlib.axes._subplots.AxesSubplot object at 0x11833fe90>,\n",
       "        <matplotlib.axes._subplots.AxesSubplot object at 0x1178e6a10>],\n",
       "       [<matplotlib.axes._subplots.AxesSubplot object at 0x117fc64d0>,\n",
       "        <matplotlib.axes._subplots.AxesSubplot object at 0x118016410>]], dtype=object)"
      ]
     },
     "execution_count": 19,
     "metadata": {},
     "output_type": "execute_result"
    },
    {
     "data": {
      "image/png": "[encoded data removed]",
      "text/plain": [
       "<matplotlib.figure.Figure at 0x11833f790>"
      ]
     },
     "metadata": {},
     "output_type": "display_data"
    }
   ],
   "source": [
    "df_train.hist()"
   ]
  },
  {
   "cell_type": "markdown",
   "metadata": {},
   "source": [
    "How about the prediction data?"
   ]
  },
  {
   "cell_type": "code",
   "execution_count": 20,
   "metadata": {
    "collapsed": false
   },
   "outputs": [
    {
     "data": {
      "text/plain": [
       "array([[<matplotlib.axes._subplots.AxesSubplot object at 0x1185940d0>,\n",
       "        <matplotlib.axes._subplots.AxesSubplot object at 0x11866ea50>],\n",
       "       [<matplotlib.axes._subplots.AxesSubplot object at 0x1186f3c50>,\n",
       "        <matplotlib.axes._subplots.AxesSubplot object at 0x118766710>]], dtype=object)"
      ]
     },
     "execution_count": 20,
     "metadata": {},
     "output_type": "execute_result"
    },
    {
     "data": {
      "image/png": "[encoded data removed]",
      "text/plain": [
       "<matplotlib.figure.Figure at 0x118387e90>"
      ]
     },
     "metadata": {},
     "output_type": "display_data"
    }
   ],
   "source": [
    "df_predict.hist()"
   ]
  },
  {
   "cell_type": "markdown",
   "metadata": {},
   "source": [
    "There is quite a bit more humid weather in the data to be predicted, that is not present in the training data. Since the model won't be trained as much in this region of parameter space, it may be that predictions for times of high humidity won't be as good.\n",
    "\n",
    "Outdoor temperatures look similar, as does the proportion of time the building is occupied.\n",
    "\n",
    "In the training data, the vast majority of the time, the thermal load is very small or zero, indicating the cooling system was not working very much of the time. I wonder is this typical, and whether data from times of more frequent operation would be available?\n",
    "\n",
    "How much of the time is the cooling load equal to zero?"
   ]
  },
  {
   "cell_type": "code",
   "execution_count": 24,
   "metadata": {
    "collapsed": false
   },
   "outputs": [
    {
     "data": {
      "text/plain": [
       "0.8739427012278308"
      ]
     },
     "execution_count": 24,
     "metadata": {},
     "output_type": "execute_result"
    }
   ],
   "source": [
    "sum(df_train.ThermalCoolingLoad.values == 0) / float(len(df_train.ThermalCoolingLoad.values))"
   ]
  },
  {
   "cell_type": "markdown",
   "metadata": {},
   "source": [
    "It is exactly zero most of the time."
   ]
  },
  {
   "cell_type": "markdown",
   "metadata": {},
   "source": [
    "## Initial thoughts on modeling\n",
    "I'll assume the cooling load at time T is a linear function of building occupancy status, humidity, and temperature.\n",
    "\n",
    "Due to the large number of zeroes, the response variable is definitely not normally distributed. This may create issues in multi-linear regression, and possibly other regression methods as well. It may be beneficial to create a two-part model:\n",
    "1. Is the cooling system on or not?\n",
    "2. Given the cooling system is on, how many units are being used?"
   ]
  },
  {
   "cell_type": "markdown",
   "metadata": {},
   "source": [
    "It also stands to reason that the cooling needed at time T is not just a function of the temperature at time T, but also previous time steps. A time series regression approach seems like probably the best thing.\n",
    "\n",
    "There are a few different approaches possible here. One is distributed lag (DL), which will model the cooling system status at time T as a function of the exogenous predictors at times (T-lag:T), for some lag."
   ]
  },
  {
   "cell_type": "markdown",
   "metadata": {},
   "source": [
    "In order to get something working quickly, I'll just assume for now that only the current time step is important."
   ]
  },
  {
   "cell_type": "markdown",
   "metadata": {},
   "source": [
    "## Model 1: is the cooling system on or off?\n",
    "This is a binary classification problem. First I'll try logistic regression."
   ]
  },
  {
   "cell_type": "code",
   "execution_count": 130,
   "metadata": {
    "collapsed": true
   },
   "outputs": [],
   "source": [
    "#Add column for 1 if system is on, 0 if not\n",
    "system_on_off = np.zeros(np.shape(df_train.ThermalCoolingLoad.values))\n",
    "system_on_off[df_train.ThermalCoolingLoad.values>0] = 1\n"
   ]
  },
  {
   "cell_type": "code",
   "execution_count": 131,
   "metadata": {
    "collapsed": false
   },
   "outputs": [
    {
     "data": {
      "text/plain": [
       "array([ 0.,  0.,  0., ...,  0.,  0.,  0.])"
      ]
     },
     "execution_count": 131,
     "metadata": {},
     "output_type": "execute_result"
    }
   ],
   "source": [
    "system_on_off"
   ]
  },
  {
   "cell_type": "code",
   "execution_count": 132,
   "metadata": {
    "collapsed": false
   },
   "outputs": [
    {
     "data": {
      "text/plain": [
       "0.12605729877216917"
      ]
     },
     "execution_count": 132,
     "metadata": {},
     "output_type": "execute_result"
    }
   ],
   "source": [
    "sum(system_on_off) / float(len(system_on_off))"
   ]
  },
  {
   "cell_type": "code",
   "execution_count": 133,
   "metadata": {
    "collapsed": true
   },
   "outputs": [],
   "source": [
    "df_train['SystemOnOff'] = system_on_off"
   ]
  },
  {
   "cell_type": "code",
   "execution_count": 134,
   "metadata": {
    "collapsed": false
   },
   "outputs": [
    {
     "data": {
      "text/html": [
       "<div>\n",
       "<style>\n",
       "    .dataframe thead tr:only-child th {\n",
       "        text-align: right;\n",
       "    }\n",
       "\n",
       "    .dataframe thead th {\n",
       "        text-align: left;\n",
       "    }\n",
       "\n",
       "    .dataframe tbody tr th {\n",
       "        vertical-align: top;\n",
       "    }\n",
       "</style>\n",
       "<table border=\"1\" class=\"dataframe\">\n",
       "  <thead>\n",
       "    <tr style=\"text-align: right;\">\n",
       "      <th></th>\n",
       "      <th>Datetime</th>\n",
       "      <th>BuildingOccupied</th>\n",
       "      <th>OutdoorTemperature</th>\n",
       "      <th>OutdoorRelativeHumidity</th>\n",
       "      <th>ThermalCoolingLoad</th>\n",
       "      <th>SystemOnOff</th>\n",
       "    </tr>\n",
       "  </thead>\n",
       "  <tbody>\n",
       "    <tr>\n",
       "      <th>0</th>\n",
       "      <td>2/27/2017 0:00</td>\n",
       "      <td>0</td>\n",
       "      <td>44.240</td>\n",
       "      <td>85.33</td>\n",
       "      <td>0.0</td>\n",
       "      <td>0.0</td>\n",
       "    </tr>\n",
       "    <tr>\n",
       "      <th>1</th>\n",
       "      <td>2/27/2017 0:15</td>\n",
       "      <td>0</td>\n",
       "      <td>46.238</td>\n",
       "      <td>82.58</td>\n",
       "      <td>0.0</td>\n",
       "      <td>0.0</td>\n",
       "    </tr>\n",
       "    <tr>\n",
       "      <th>2</th>\n",
       "      <td>2/27/2017 0:30</td>\n",
       "      <td>0</td>\n",
       "      <td>50.630</td>\n",
       "      <td>74.88</td>\n",
       "      <td>0.0</td>\n",
       "      <td>0.0</td>\n",
       "    </tr>\n",
       "    <tr>\n",
       "      <th>3</th>\n",
       "      <td>2/27/2017 0:45</td>\n",
       "      <td>0</td>\n",
       "      <td>49.748</td>\n",
       "      <td>77.29</td>\n",
       "      <td>0.0</td>\n",
       "      <td>0.0</td>\n",
       "    </tr>\n",
       "    <tr>\n",
       "      <th>4</th>\n",
       "      <td>2/27/2017 1:00</td>\n",
       "      <td>0</td>\n",
       "      <td>50.234</td>\n",
       "      <td>76.31</td>\n",
       "      <td>0.0</td>\n",
       "      <td>0.0</td>\n",
       "    </tr>\n",
       "  </tbody>\n",
       "</table>\n",
       "</div>"
      ],
      "text/plain": [
       "         Datetime  BuildingOccupied  OutdoorTemperature  \\\n",
       "0  2/27/2017 0:00                 0              44.240   \n",
       "1  2/27/2017 0:15                 0              46.238   \n",
       "2  2/27/2017 0:30                 0              50.630   \n",
       "3  2/27/2017 0:45                 0              49.748   \n",
       "4  2/27/2017 1:00                 0              50.234   \n",
       "\n",
       "   OutdoorRelativeHumidity  ThermalCoolingLoad  SystemOnOff  \n",
       "0                    85.33                 0.0          0.0  \n",
       "1                    82.58                 0.0          0.0  \n",
       "2                    74.88                 0.0          0.0  \n",
       "3                    77.29                 0.0          0.0  \n",
       "4                    76.31                 0.0          0.0  "
      ]
     },
     "execution_count": 134,
     "metadata": {},
     "output_type": "execute_result"
    }
   ],
   "source": [
    "df_train.head()"
   ]
  },
  {
   "cell_type": "code",
   "execution_count": 135,
   "metadata": {
    "collapsed": false
   },
   "outputs": [],
   "source": [
    "#Make rolling mean predictors\n",
    "#This is an exploration of lagged effects of temperatures on the current thermal load.\n",
    "#While not visualized here, I experimented with several lags.\n",
    "time_lag = 6\n",
    "df_train['temp_ma'] = df_train.OutdoorTemperature.rolling(window=time_lag, center=False).sum()"
   ]
  },
  {
   "cell_type": "code",
   "execution_count": 253,
   "metadata": {
    "collapsed": false
   },
   "outputs": [
    {
     "data": {
      "text/html": [
       "<div>\n",
       "<style>\n",
       "    .dataframe thead tr:only-child th {\n",
       "        text-align: right;\n",
       "    }\n",
       "\n",
       "    .dataframe thead th {\n",
       "        text-align: left;\n",
       "    }\n",
       "\n",
       "    .dataframe tbody tr th {\n",
       "        vertical-align: top;\n",
       "    }\n",
       "</style>\n",
       "<table border=\"1\" class=\"dataframe\">\n",
       "  <thead>\n",
       "    <tr style=\"text-align: right;\">\n",
       "      <th></th>\n",
       "      <th>Datetime</th>\n",
       "      <th>BuildingOccupied</th>\n",
       "      <th>OutdoorTemperature</th>\n",
       "      <th>OutdoorRelativeHumidity</th>\n",
       "      <th>ThermalCoolingLoad</th>\n",
       "      <th>SystemOnOff</th>\n",
       "      <th>temp_ma</th>\n",
       "    </tr>\n",
       "  </thead>\n",
       "  <tbody>\n",
       "    <tr>\n",
       "      <th>0</th>\n",
       "      <td>2/27/2017 0:00</td>\n",
       "      <td>0</td>\n",
       "      <td>44.240</td>\n",
       "      <td>85.33</td>\n",
       "      <td>0.0</td>\n",
       "      <td>0.0</td>\n",
       "      <td>NaN</td>\n",
       "    </tr>\n",
       "    <tr>\n",
       "      <th>1</th>\n",
       "      <td>2/27/2017 0:15</td>\n",
       "      <td>0</td>\n",
       "      <td>46.238</td>\n",
       "      <td>82.58</td>\n",
       "      <td>0.0</td>\n",
       "      <td>0.0</td>\n",
       "      <td>NaN</td>\n",
       "    </tr>\n",
       "    <tr>\n",
       "      <th>2</th>\n",
       "      <td>2/27/2017 0:30</td>\n",
       "      <td>0</td>\n",
       "      <td>50.630</td>\n",
       "      <td>74.88</td>\n",
       "      <td>0.0</td>\n",
       "      <td>0.0</td>\n",
       "      <td>NaN</td>\n",
       "    </tr>\n",
       "    <tr>\n",
       "      <th>3</th>\n",
       "      <td>2/27/2017 0:45</td>\n",
       "      <td>0</td>\n",
       "      <td>49.748</td>\n",
       "      <td>77.29</td>\n",
       "      <td>0.0</td>\n",
       "      <td>0.0</td>\n",
       "      <td>NaN</td>\n",
       "    </tr>\n",
       "    <tr>\n",
       "      <th>4</th>\n",
       "      <td>2/27/2017 1:00</td>\n",
       "      <td>0</td>\n",
       "      <td>50.234</td>\n",
       "      <td>76.31</td>\n",
       "      <td>0.0</td>\n",
       "      <td>0.0</td>\n",
       "      <td>NaN</td>\n",
       "    </tr>\n",
       "    <tr>\n",
       "      <th>5</th>\n",
       "      <td>2/27/2017 1:15</td>\n",
       "      <td>0</td>\n",
       "      <td>46.670</td>\n",
       "      <td>86.03</td>\n",
       "      <td>0.0</td>\n",
       "      <td>0.0</td>\n",
       "      <td>287.760</td>\n",
       "    </tr>\n",
       "    <tr>\n",
       "      <th>6</th>\n",
       "      <td>2/27/2017 1:30</td>\n",
       "      <td>0</td>\n",
       "      <td>50.594</td>\n",
       "      <td>76.38</td>\n",
       "      <td>0.0</td>\n",
       "      <td>0.0</td>\n",
       "      <td>294.114</td>\n",
       "    </tr>\n",
       "    <tr>\n",
       "      <th>7</th>\n",
       "      <td>2/27/2017 1:45</td>\n",
       "      <td>0</td>\n",
       "      <td>49.532</td>\n",
       "      <td>77.25</td>\n",
       "      <td>0.0</td>\n",
       "      <td>0.0</td>\n",
       "      <td>297.408</td>\n",
       "    </tr>\n",
       "    <tr>\n",
       "      <th>8</th>\n",
       "      <td>2/27/2017 2:00</td>\n",
       "      <td>0</td>\n",
       "      <td>51.404</td>\n",
       "      <td>73.58</td>\n",
       "      <td>0.0</td>\n",
       "      <td>0.0</td>\n",
       "      <td>298.182</td>\n",
       "    </tr>\n",
       "    <tr>\n",
       "      <th>9</th>\n",
       "      <td>2/27/2017 2:15</td>\n",
       "      <td>0</td>\n",
       "      <td>51.242</td>\n",
       "      <td>73.61</td>\n",
       "      <td>0.0</td>\n",
       "      <td>0.0</td>\n",
       "      <td>299.676</td>\n",
       "    </tr>\n",
       "    <tr>\n",
       "      <th>10</th>\n",
       "      <td>2/27/2017 2:30</td>\n",
       "      <td>0</td>\n",
       "      <td>51.242</td>\n",
       "      <td>72.19</td>\n",
       "      <td>0.0</td>\n",
       "      <td>0.0</td>\n",
       "      <td>300.684</td>\n",
       "    </tr>\n",
       "    <tr>\n",
       "      <th>11</th>\n",
       "      <td>2/27/2017 2:45</td>\n",
       "      <td>0</td>\n",
       "      <td>46.472</td>\n",
       "      <td>81.63</td>\n",
       "      <td>0.0</td>\n",
       "      <td>0.0</td>\n",
       "      <td>300.486</td>\n",
       "    </tr>\n",
       "  </tbody>\n",
       "</table>\n",
       "</div>"
      ],
      "text/plain": [
       "          Datetime  BuildingOccupied  OutdoorTemperature  \\\n",
       "0   2/27/2017 0:00                 0              44.240   \n",
       "1   2/27/2017 0:15                 0              46.238   \n",
       "2   2/27/2017 0:30                 0              50.630   \n",
       "3   2/27/2017 0:45                 0              49.748   \n",
       "4   2/27/2017 1:00                 0              50.234   \n",
       "5   2/27/2017 1:15                 0              46.670   \n",
       "6   2/27/2017 1:30                 0              50.594   \n",
       "7   2/27/2017 1:45                 0              49.532   \n",
       "8   2/27/2017 2:00                 0              51.404   \n",
       "9   2/27/2017 2:15                 0              51.242   \n",
       "10  2/27/2017 2:30                 0              51.242   \n",
       "11  2/27/2017 2:45                 0              46.472   \n",
       "\n",
       "    OutdoorRelativeHumidity  ThermalCoolingLoad  SystemOnOff  temp_ma  \n",
       "0                     85.33                 0.0          0.0      NaN  \n",
       "1                     82.58                 0.0          0.0      NaN  \n",
       "2                     74.88                 0.0          0.0      NaN  \n",
       "3                     77.29                 0.0          0.0      NaN  \n",
       "4                     76.31                 0.0          0.0      NaN  \n",
       "5                     86.03                 0.0          0.0  287.760  \n",
       "6                     76.38                 0.0          0.0  294.114  \n",
       "7                     77.25                 0.0          0.0  297.408  \n",
       "8                     73.58                 0.0          0.0  298.182  \n",
       "9                     73.61                 0.0          0.0  299.676  \n",
       "10                    72.19                 0.0          0.0  300.684  \n",
       "11                    81.63                 0.0          0.0  300.486  "
      ]
     },
     "execution_count": 253,
     "metadata": {},
     "output_type": "execute_result"
    }
   ],
   "source": [
    "df_train.head(12)\n"
   ]
  },
  {
   "cell_type": "code",
   "execution_count": 188,
   "metadata": {
    "collapsed": true
   },
   "outputs": [],
   "source": [
    "#Separate data into predictors and response\n",
    "predictors_list = ['BuildingOccupied', 'OutdoorTemperature', 'OutdoorRelativeHumidity']#, 'temp_ma']\n",
    "X = df_train.filter(items=predictors_list).values\n",
    "y = df_train['SystemOnOff'].values"
   ]
  },
  {
   "cell_type": "code",
   "execution_count": 189,
   "metadata": {
    "collapsed": false
   },
   "outputs": [
    {
     "data": {
      "text/plain": [
       "(3665, 3)"
      ]
     },
     "execution_count": 189,
     "metadata": {},
     "output_type": "execute_result"
    }
   ],
   "source": [
    "np.shape(X)"
   ]
  },
  {
   "cell_type": "code",
   "execution_count": 190,
   "metadata": {
    "collapsed": false
   },
   "outputs": [
    {
     "data": {
      "text/plain": [
       "(3665,)"
      ]
     },
     "execution_count": 190,
     "metadata": {},
     "output_type": "execute_result"
    }
   ],
   "source": [
    "np.shape(y)"
   ]
  },
  {
   "cell_type": "code",
   "execution_count": 191,
   "metadata": {
    "collapsed": false
   },
   "outputs": [
    {
     "data": {
      "image/png": "[encoded data removed]",
      "text/plain": [
       "<matplotlib.figure.Figure at 0x11839d990>"
      ]
     },
     "metadata": {},
     "output_type": "display_data"
    }
   ],
   "source": [
    "#Plot each feature separately by classification, see if any have clear class separability\n",
    "\n",
    "#There are 8 predictors\n",
    "fig, axes = plt.subplots(1, len(predictors_list), figsize=(11, 6))\n",
    "\n",
    "axes = axes.ravel()\n",
    "\n",
    "for i in range(X.shape[1]):\n",
    "    axes[i].hist(X[(system_on_off==0) & ~np.isnan(X[:,i]),i], alpha=0.5, label='off')\n",
    "    axes[i].hist(X[(system_on_off==1) & ~np.isnan(X[:,i]),i], alpha=0.5, label='on')\n",
    "    axes[i].legend(loc='upper right')\n",
    "    axes[i].set_title(predictors_list[i])"
   ]
  },
  {
   "cell_type": "markdown",
   "metadata": {},
   "source": [
    "The nature of the data indicates that the cooling system tends to be on when the building is occupied, when it is warm, and when it is less humid. Low humidity and high temperature may be correlated, suggesting traditional models like logistic regression and linear regression may not perform as well.\n",
    "\n",
    "I also note that I examined lagged sums of temperature in this graph (not shown here), and noted that class separability appeared visually worse doing this."
   ]
  },
  {
   "cell_type": "markdown",
   "metadata": {},
   "source": [
    "# Training/testing splits and modeling\n",
    "Now I do 5 fold cross validation to train a logistic regression model, and when those results aren't promising I move to a random forest classification model."
   ]
  },
  {
   "cell_type": "code",
   "execution_count": 192,
   "metadata": {
    "collapsed": false
   },
   "outputs": [
    {
     "data": {
      "text/plain": [
       "5"
      ]
     },
     "execution_count": 192,
     "metadata": {},
     "output_type": "execute_result"
    }
   ],
   "source": [
    "n_folds = 5\n",
    "\n",
    "from sklearn.model_selection import StratifiedKFold\n",
    "skf = StratifiedKFold(n_splits=n_folds)\n",
    "skf.get_n_splits(X, y)"
   ]
  },
  {
   "cell_type": "code",
   "execution_count": 193,
   "metadata": {
    "collapsed": false
   },
   "outputs": [
    {
     "name": "stdout",
     "output_type": "stream",
     "text": [
      "StratifiedKFold(n_splits=5, random_state=None, shuffle=False)\n"
     ]
    }
   ],
   "source": [
    "print(skf)  "
   ]
  },
  {
   "cell_type": "code",
   "execution_count": 194,
   "metadata": {
    "collapsed": true
   },
   "outputs": [],
   "source": [
    "#Instantiate model\n",
    "from sklearn import linear_model\n",
    "logistic_reg_model = linear_model.LogisticRegression(fit_intercept = True, class_weight='balanced', C=1)"
   ]
  },
  {
   "cell_type": "code",
   "execution_count": 195,
   "metadata": {
    "collapsed": true
   },
   "outputs": [],
   "source": [
    "counter = 0\n",
    "scores = [None]*n_folds\n",
    "\n",
    "for train_index, test_index in skf.split(X, y):\n",
    "#     print(\"TRAIN:\", train_index, \"TEST:\", test_index)\n",
    "#     print(counter)\n",
    "    X_train, X_test = X[train_index], X[test_index]\n",
    "    y_train, y_test = y[train_index], y[test_index]\n",
    "    est = logistic_reg_model.fit(X_train, y_train)\n",
    "    scores[counter] = est.score(X_test, y_test)\n",
    "    counter += 1"
   ]
  },
  {
   "cell_type": "code",
   "execution_count": 196,
   "metadata": {
    "collapsed": false
   },
   "outputs": [
    {
     "data": {
      "text/plain": [
       "[0.9659400544959128,\n",
       " 0.88828337874659402,\n",
       " 0.89358799454297411,\n",
       " 0.86475409836065575,\n",
       " 0.66120218579234968]"
      ]
     },
     "execution_count": 196,
     "metadata": {},
     "output_type": "execute_result"
    }
   ],
   "source": [
    "scores"
   ]
  },
  {
   "cell_type": "code",
   "execution_count": 197,
   "metadata": {
    "collapsed": false
   },
   "outputs": [
    {
     "data": {
      "text/plain": [
       "0.8547535423876973"
      ]
     },
     "execution_count": 197,
     "metadata": {},
     "output_type": "execute_result"
    }
   ],
   "source": [
    "np.mean(scores)"
   ]
  },
  {
   "cell_type": "code",
   "execution_count": 198,
   "metadata": {
    "collapsed": true
   },
   "outputs": [],
   "source": [
    "est = logistic_reg_model.fit(X, y)\n",
    "train_on_all = est.score(X, y)"
   ]
  },
  {
   "cell_type": "code",
   "execution_count": 199,
   "metadata": {
    "collapsed": false
   },
   "outputs": [
    {
     "data": {
      "text/plain": [
       "0.86275579809004088"
      ]
     },
     "execution_count": 199,
     "metadata": {},
     "output_type": "execute_result"
    }
   ],
   "source": [
    "train_on_all"
   ]
  },
  {
   "cell_type": "markdown",
   "metadata": {},
   "source": [
    "This result is not promising. The average cross-validation score is 85% correct classification. Even training on all the training data yields 86% accuracy. However a null model that simply predicts the system is off all the time would have 87% accuracy, based on data exploration.\n",
    "\n",
    "If I had more time, I'd explore the ROC curve and other thresholds, to see if better accuracy could be attained. I'd also explore methods for dealing with unbalanced classes as I have here, such as SMOTE.\n",
    "\n",
    "Instead I move on directly to another classifier, random forest classifier."
   ]
  },
  {
   "cell_type": "code",
   "execution_count": 204,
   "metadata": {
    "collapsed": false
   },
   "outputs": [],
   "source": [
    "#Instantiate model\n",
    "from sklearn import ensemble\n",
    "rf_model = ensemble.RandomForestClassifier(n_estimators=10, criterion='gini', max_depth=None,\n",
    "                                              min_samples_split=2, min_samples_leaf=1,\n",
    "                                              min_weight_fraction_leaf=0.0, max_features='auto',\n",
    "                                              max_leaf_nodes=None,\n",
    "                                              min_impurity_split=0, bootstrap=True, oob_score=False,\n",
    "                                              n_jobs=1, random_state=None, verbose=0, warm_start=False,\n",
    "                                              class_weight='balanced')"
   ]
  },
  {
   "cell_type": "code",
   "execution_count": 205,
   "metadata": {
    "collapsed": false
   },
   "outputs": [],
   "source": [
    "counter = 0\n",
    "scores = [None]*n_folds\n",
    "\n",
    "for train_index, test_index in skf.split(X, y):\n",
    "#     print(\"TRAIN:\", train_index, \"TEST:\", test_index)\n",
    "#     print(counter)\n",
    "    X_train, X_test = X[train_index], X[test_index]\n",
    "    y_train, y_test = y[train_index], y[test_index]\n",
    "    est = rf_model.fit(X_train, y_train)\n",
    "    scores[counter] = est.score(X_test, y_test)\n",
    "    counter += 1"
   ]
  },
  {
   "cell_type": "code",
   "execution_count": 206,
   "metadata": {
    "collapsed": false
   },
   "outputs": [
    {
     "data": {
      "text/plain": [
       "[0.91553133514986373,\n",
       " 0.95912806539509532,\n",
       " 0.94815825375170537,\n",
       " 0.94398907103825136,\n",
       " 0.85519125683060104]"
      ]
     },
     "execution_count": 206,
     "metadata": {},
     "output_type": "execute_result"
    }
   ],
   "source": [
    "scores"
   ]
  },
  {
   "cell_type": "code",
   "execution_count": 207,
   "metadata": {
    "collapsed": false
   },
   "outputs": [
    {
     "data": {
      "text/plain": [
       "0.92439959643310343"
      ]
     },
     "execution_count": 207,
     "metadata": {},
     "output_type": "execute_result"
    }
   ],
   "source": [
    "np.mean(scores)"
   ]
  },
  {
   "cell_type": "markdown",
   "metadata": {},
   "source": [
    "This is an improvement on the null model and the logistic regression. After training on all the data, I proceed to next phase, modeling the actual loads. Here also is a very rudimentary plot of model goodness of fit in the form of average cross-validated accuracy, for the logistic regression first and the random forest next. With more time this would look better."
   ]
  },
  {
   "cell_type": "code",
   "execution_count": 255,
   "metadata": {
    "collapsed": false
   },
   "outputs": [
    {
     "data": {
      "text/plain": [
       "<Container object of 2 artists>"
      ]
     },
     "execution_count": 255,
     "metadata": {},
     "output_type": "execute_result"
    },
    {
     "data": {
      "image/png": "[encoded data removed]",
      "text/plain": [
       "<matplotlib.figure.Figure at 0x119ec7290>"
      ]
     },
     "metadata": {},
     "output_type": "display_data"
    }
   ],
   "source": [
    "plt.bar([0, 1], [0.8547535423876973, 0.92439959643310343])"
   ]
  },
  {
   "cell_type": "code",
   "execution_count": 208,
   "metadata": {
    "collapsed": false
   },
   "outputs": [
    {
     "data": {
      "text/plain": [
       "0.99618008185538887"
      ]
     },
     "execution_count": 208,
     "metadata": {},
     "output_type": "execute_result"
    }
   ],
   "source": [
    "#Train on all data\n",
    "est = rf_model.fit(X, y)\n",
    "train_on_all = est.score(X, y)\n",
    "train_on_all"
   ]
  },
  {
   "cell_type": "markdown",
   "metadata": {},
   "source": [
    "# Model 2: loads\n",
    "Given the system is on, what is the load? I will use a simple multilinear regression, and maybe also try random forest regression.\n"
   ]
  },
  {
   "cell_type": "code",
   "execution_count": 209,
   "metadata": {
    "collapsed": true
   },
   "outputs": [],
   "source": [
    "#Subset the DF to only those times when the cooling system is turned on\n",
    "df_train_loads = df_train[df_train.SystemOnOff.values == 1]"
   ]
  },
  {
   "cell_type": "code",
   "execution_count": 210,
   "metadata": {
    "collapsed": false
   },
   "outputs": [
    {
     "data": {
      "text/html": [
       "<div>\n",
       "<style>\n",
       "    .dataframe thead tr:only-child th {\n",
       "        text-align: right;\n",
       "    }\n",
       "\n",
       "    .dataframe thead th {\n",
       "        text-align: left;\n",
       "    }\n",
       "\n",
       "    .dataframe tbody tr th {\n",
       "        vertical-align: top;\n",
       "    }\n",
       "</style>\n",
       "<table border=\"1\" class=\"dataframe\">\n",
       "  <thead>\n",
       "    <tr style=\"text-align: right;\">\n",
       "      <th></th>\n",
       "      <th>Datetime</th>\n",
       "      <th>BuildingOccupied</th>\n",
       "      <th>OutdoorTemperature</th>\n",
       "      <th>OutdoorRelativeHumidity</th>\n",
       "      <th>ThermalCoolingLoad</th>\n",
       "      <th>SystemOnOff</th>\n",
       "      <th>temp_ma</th>\n",
       "    </tr>\n",
       "  </thead>\n",
       "  <tbody>\n",
       "    <tr>\n",
       "      <th>156</th>\n",
       "      <td>2/28/2017 15:00</td>\n",
       "      <td>1</td>\n",
       "      <td>55.400</td>\n",
       "      <td>57.45</td>\n",
       "      <td>200.3</td>\n",
       "      <td>1.0</td>\n",
       "      <td>329.034</td>\n",
       "    </tr>\n",
       "    <tr>\n",
       "      <th>157</th>\n",
       "      <td>2/28/2017 15:15</td>\n",
       "      <td>1</td>\n",
       "      <td>58.748</td>\n",
       "      <td>52.72</td>\n",
       "      <td>129.4</td>\n",
       "      <td>1.0</td>\n",
       "      <td>333.372</td>\n",
       "    </tr>\n",
       "    <tr>\n",
       "      <th>158</th>\n",
       "      <td>2/28/2017 15:30</td>\n",
       "      <td>1</td>\n",
       "      <td>57.776</td>\n",
       "      <td>52.14</td>\n",
       "      <td>127.2</td>\n",
       "      <td>1.0</td>\n",
       "      <td>336.630</td>\n",
       "    </tr>\n",
       "    <tr>\n",
       "      <th>159</th>\n",
       "      <td>2/28/2017 15:45</td>\n",
       "      <td>1</td>\n",
       "      <td>58.568</td>\n",
       "      <td>52.83</td>\n",
       "      <td>134.8</td>\n",
       "      <td>1.0</td>\n",
       "      <td>340.320</td>\n",
       "    </tr>\n",
       "    <tr>\n",
       "      <th>160</th>\n",
       "      <td>2/28/2017 16:00</td>\n",
       "      <td>1</td>\n",
       "      <td>58.190</td>\n",
       "      <td>51.87</td>\n",
       "      <td>131.5</td>\n",
       "      <td>1.0</td>\n",
       "      <td>343.470</td>\n",
       "    </tr>\n",
       "  </tbody>\n",
       "</table>\n",
       "</div>"
      ],
      "text/plain": [
       "            Datetime  BuildingOccupied  OutdoorTemperature  \\\n",
       "156  2/28/2017 15:00                 1              55.400   \n",
       "157  2/28/2017 15:15                 1              58.748   \n",
       "158  2/28/2017 15:30                 1              57.776   \n",
       "159  2/28/2017 15:45                 1              58.568   \n",
       "160  2/28/2017 16:00                 1              58.190   \n",
       "\n",
       "     OutdoorRelativeHumidity  ThermalCoolingLoad  SystemOnOff  temp_ma  \n",
       "156                    57.45               200.3          1.0  329.034  \n",
       "157                    52.72               129.4          1.0  333.372  \n",
       "158                    52.14               127.2          1.0  336.630  \n",
       "159                    52.83               134.8          1.0  340.320  \n",
       "160                    51.87               131.5          1.0  343.470  "
      ]
     },
     "execution_count": 210,
     "metadata": {},
     "output_type": "execute_result"
    }
   ],
   "source": [
    "df_train_loads.head()"
   ]
  },
  {
   "cell_type": "code",
   "execution_count": 211,
   "metadata": {
    "collapsed": false
   },
   "outputs": [
    {
     "data": {
      "text/plain": [
       "Datetime                   462\n",
       "BuildingOccupied           462\n",
       "OutdoorTemperature         462\n",
       "OutdoorRelativeHumidity    462\n",
       "ThermalCoolingLoad         462\n",
       "SystemOnOff                462\n",
       "temp_ma                    462\n",
       "dtype: int64"
      ]
     },
     "execution_count": 211,
     "metadata": {},
     "output_type": "execute_result"
    }
   ],
   "source": [
    "df_train_loads.count()"
   ]
  },
  {
   "cell_type": "code",
   "execution_count": 212,
   "metadata": {
    "collapsed": true
   },
   "outputs": [],
   "source": [
    "#Separate data into predictors and response\n",
    "predictors_list = ['BuildingOccupied', 'OutdoorTemperature', 'OutdoorRelativeHumidity']#, 'temp_ma']\n",
    "X = df_train_loads.filter(items=predictors_list).values\n",
    "y = df_train_loads['ThermalCoolingLoad'].values"
   ]
  },
  {
   "cell_type": "code",
   "execution_count": 213,
   "metadata": {
    "collapsed": false
   },
   "outputs": [
    {
     "data": {
      "text/plain": [
       "(462, 3)"
      ]
     },
     "execution_count": 213,
     "metadata": {},
     "output_type": "execute_result"
    }
   ],
   "source": [
    "np.shape(X)"
   ]
  },
  {
   "cell_type": "code",
   "execution_count": 214,
   "metadata": {
    "collapsed": false
   },
   "outputs": [
    {
     "data": {
      "text/plain": [
       "(462,)"
      ]
     },
     "execution_count": 214,
     "metadata": {},
     "output_type": "execute_result"
    }
   ],
   "source": [
    "np.shape(y)"
   ]
  },
  {
   "cell_type": "code",
   "execution_count": 215,
   "metadata": {
    "collapsed": false
   },
   "outputs": [
    {
     "data": {
      "text/plain": [
       "5"
      ]
     },
     "execution_count": 215,
     "metadata": {},
     "output_type": "execute_result"
    }
   ],
   "source": [
    "n_folds = 5\n",
    "\n",
    "from sklearn.model_selection import StratifiedKFold\n",
    "skf = StratifiedKFold(n_splits=n_folds)\n",
    "skf.get_n_splits(X, y)"
   ]
  },
  {
   "cell_type": "code",
   "execution_count": 216,
   "metadata": {
    "collapsed": false
   },
   "outputs": [
    {
     "name": "stdout",
     "output_type": "stream",
     "text": [
      "StratifiedKFold(n_splits=5, random_state=None, shuffle=False)\n"
     ]
    }
   ],
   "source": [
    "print(skf)  "
   ]
  },
  {
   "cell_type": "code",
   "execution_count": 217,
   "metadata": {
    "collapsed": true
   },
   "outputs": [],
   "source": [
    "#Multiple linear regression\n",
    "#Instantiate model\n",
    "lin_reg_model = linear_model.LinearRegression(fit_intercept = True)\n"
   ]
  },
  {
   "cell_type": "code",
   "execution_count": 218,
   "metadata": {
    "collapsed": false
   },
   "outputs": [],
   "source": [
    "counter = 0\n",
    "scores = [None]*n_folds\n",
    "\n",
    "for train_index, test_index in skf.split(X, y):\n",
    "#     print(\"TRAIN:\", train_index, \"TEST:\", test_index)\n",
    "#     print(counter)\n",
    "    X_train, X_test = X[train_index], X[test_index]\n",
    "    y_train, y_test = y[train_index], y[test_index]\n",
    "    est = lin_reg_model.fit(X_train, y_train)\n",
    "    scores[counter] = est.score(X_test, y_test)\n",
    "    counter += 1"
   ]
  },
  {
   "cell_type": "code",
   "execution_count": 219,
   "metadata": {
    "collapsed": false
   },
   "outputs": [
    {
     "data": {
      "text/plain": [
       "[0.49392691772919828,\n",
       " 0.38967542995456383,\n",
       " 0.15034469222852809,\n",
       " 0.38821936739561558,\n",
       " 0.0]"
      ]
     },
     "execution_count": 219,
     "metadata": {},
     "output_type": "execute_result"
    }
   ],
   "source": [
    "scores"
   ]
  },
  {
   "cell_type": "code",
   "execution_count": 225,
   "metadata": {
    "collapsed": false
   },
   "outputs": [
    {
     "data": {
      "text/plain": [
       "0.59126066973243874"
      ]
     },
     "execution_count": 225,
     "metadata": {},
     "output_type": "execute_result"
    }
   ],
   "source": [
    "est = lin_reg_model.fit(X, y)\n",
    "train_on_all = est.score(X, y)\n",
    "train_on_all"
   ]
  },
  {
   "cell_type": "markdown",
   "metadata": {},
   "source": [
    "These CV scores seem low. Now I try random forest regression.\n"
   ]
  },
  {
   "cell_type": "code",
   "execution_count": 221,
   "metadata": {
    "collapsed": false
   },
   "outputs": [],
   "source": [
    "rf_reg_model = ensemble.RandomForestRegressor(n_estimators=10, criterion='mse', max_depth=None,\n",
    "                                              min_samples_split=2, min_samples_leaf=1,\n",
    "                                              min_weight_fraction_leaf=0.0, max_features='auto',\n",
    "                                              max_leaf_nodes=None,\n",
    "                                              min_impurity_split=0, bootstrap=True, oob_score=False,\n",
    "                                              n_jobs=1, random_state=None, verbose=0, warm_start=False)"
   ]
  },
  {
   "cell_type": "code",
   "execution_count": 222,
   "metadata": {
    "collapsed": true
   },
   "outputs": [],
   "source": [
    "counter = 0\n",
    "scores = [None]*n_folds\n",
    "\n",
    "for train_index, test_index in skf.split(X, y):\n",
    "#     print(\"TRAIN:\", train_index, \"TEST:\", test_index)\n",
    "#     print(counter)\n",
    "    X_train, X_test = X[train_index], X[test_index]\n",
    "    y_train, y_test = y[train_index], y[test_index]\n",
    "    est = rf_reg_model.fit(X_train, y_train)\n",
    "    scores[counter] = est.score(X_test, y_test)\n",
    "    counter += 1"
   ]
  },
  {
   "cell_type": "code",
   "execution_count": 223,
   "metadata": {
    "collapsed": false
   },
   "outputs": [
    {
     "data": {
      "text/plain": [
       "[0.54531580460341722,\n",
       " 0.40803754469752962,\n",
       " 0.48956991770091085,\n",
       " 0.33440042262696257,\n",
       " 0.0]"
      ]
     },
     "execution_count": 223,
     "metadata": {},
     "output_type": "execute_result"
    }
   ],
   "source": [
    "scores"
   ]
  },
  {
   "cell_type": "code",
   "execution_count": 224,
   "metadata": {
    "collapsed": false
   },
   "outputs": [
    {
     "data": {
      "text/plain": [
       "0.93834056066075955"
      ]
     },
     "execution_count": 224,
     "metadata": {},
     "output_type": "execute_result"
    }
   ],
   "source": [
    "est = rf_reg_model.fit(X, y)\n",
    "train_on_all = est.score(X, y)\n",
    "train_on_all"
   ]
  },
  {
   "cell_type": "markdown",
   "metadata": {},
   "source": [
    "While the model testing scores here are not stellar by arbitrary standards, they are better than the linear regression. The last split again here is very poorly modeled when training on the first four, indicating there is some very important behavior here that is not captured in the other splits."
   ]
  },
  {
   "cell_type": "markdown",
   "metadata": {},
   "source": [
    "# Prediction\n",
    "Now I build the overall prediction using the two models in sequence, so I can save the results to a CSV file."
   ]
  },
  {
   "cell_type": "code",
   "execution_count": 226,
   "metadata": {
    "collapsed": false
   },
   "outputs": [
    {
     "data": {
      "text/html": [
       "<div>\n",
       "<style>\n",
       "    .dataframe thead tr:only-child th {\n",
       "        text-align: right;\n",
       "    }\n",
       "\n",
       "    .dataframe thead th {\n",
       "        text-align: left;\n",
       "    }\n",
       "\n",
       "    .dataframe tbody tr th {\n",
       "        vertical-align: top;\n",
       "    }\n",
       "</style>\n",
       "<table border=\"1\" class=\"dataframe\">\n",
       "  <thead>\n",
       "    <tr style=\"text-align: right;\">\n",
       "      <th></th>\n",
       "      <th>Datetime</th>\n",
       "      <th>BuildingOccupied</th>\n",
       "      <th>OutdoorTemperature</th>\n",
       "      <th>OutdoorRelativeHumidity</th>\n",
       "    </tr>\n",
       "  </thead>\n",
       "  <tbody>\n",
       "    <tr>\n",
       "      <th>0</th>\n",
       "      <td>1/1/2018 0:00</td>\n",
       "      <td>0</td>\n",
       "      <td>48.2</td>\n",
       "      <td>87</td>\n",
       "    </tr>\n",
       "    <tr>\n",
       "      <th>1</th>\n",
       "      <td>1/1/2018 0:30</td>\n",
       "      <td>0</td>\n",
       "      <td>48.2</td>\n",
       "      <td>87</td>\n",
       "    </tr>\n",
       "    <tr>\n",
       "      <th>2</th>\n",
       "      <td>1/1/2018 1:00</td>\n",
       "      <td>0</td>\n",
       "      <td>50.0</td>\n",
       "      <td>82</td>\n",
       "    </tr>\n",
       "    <tr>\n",
       "      <th>3</th>\n",
       "      <td>1/1/2018 1:30</td>\n",
       "      <td>0</td>\n",
       "      <td>50.0</td>\n",
       "      <td>82</td>\n",
       "    </tr>\n",
       "    <tr>\n",
       "      <th>4</th>\n",
       "      <td>1/1/2018 2:00</td>\n",
       "      <td>0</td>\n",
       "      <td>50.0</td>\n",
       "      <td>82</td>\n",
       "    </tr>\n",
       "  </tbody>\n",
       "</table>\n",
       "</div>"
      ],
      "text/plain": [
       "        Datetime  BuildingOccupied  OutdoorTemperature  \\\n",
       "0  1/1/2018 0:00                 0                48.2   \n",
       "1  1/1/2018 0:30                 0                48.2   \n",
       "2  1/1/2018 1:00                 0                50.0   \n",
       "3  1/1/2018 1:30                 0                50.0   \n",
       "4  1/1/2018 2:00                 0                50.0   \n",
       "\n",
       "   OutdoorRelativeHumidity  \n",
       "0                       87  \n",
       "1                       87  \n",
       "2                       82  \n",
       "3                       82  \n",
       "4                       82  "
      ]
     },
     "execution_count": 226,
     "metadata": {},
     "output_type": "execute_result"
    }
   ],
   "source": [
    "df_predict.head()"
   ]
  },
  {
   "cell_type": "code",
   "execution_count": 227,
   "metadata": {
    "collapsed": true
   },
   "outputs": [],
   "source": [
    "#First predict whether system is on or off\n",
    "X_pred = df_predict.filter(items=predictors_list).values"
   ]
  },
  {
   "cell_type": "code",
   "execution_count": 228,
   "metadata": {
    "collapsed": false
   },
   "outputs": [
    {
     "data": {
      "text/plain": [
       "(17520, 3)"
      ]
     },
     "execution_count": 228,
     "metadata": {},
     "output_type": "execute_result"
    }
   ],
   "source": [
    "np.shape(X_pred)"
   ]
  },
  {
   "cell_type": "code",
   "execution_count": 229,
   "metadata": {
    "collapsed": true
   },
   "outputs": [],
   "source": [
    "#Make binary prediction using random forest regression\n",
    "y_pred = rf_model.predict(X_pred)"
   ]
  },
  {
   "cell_type": "code",
   "execution_count": 232,
   "metadata": {
    "collapsed": false
   },
   "outputs": [
    {
     "data": {
      "text/plain": [
       "array([ 0.,  0.,  0., ...,  0.,  0.,  0.])"
      ]
     },
     "execution_count": 232,
     "metadata": {},
     "output_type": "execute_result"
    }
   ],
   "source": [
    "y_pred"
   ]
  },
  {
   "cell_type": "code",
   "execution_count": 230,
   "metadata": {
    "collapsed": false
   },
   "outputs": [
    {
     "data": {
      "text/plain": [
       "0.12842465753424659"
      ]
     },
     "execution_count": 230,
     "metadata": {},
     "output_type": "execute_result"
    }
   ],
   "source": [
    "sum(y_pred)/float(len(y_pred))"
   ]
  },
  {
   "cell_type": "markdown",
   "metadata": {},
   "source": [
    "The system is predicted to be on about 13% of the time, which makes sense based on the training data.\n",
    "\n",
    "Now to predict the loads at these times."
   ]
  },
  {
   "cell_type": "code",
   "execution_count": 237,
   "metadata": {
    "collapsed": false
   },
   "outputs": [],
   "source": [
    "X_pred_2 = X_pred[y_pred==1,:]"
   ]
  },
  {
   "cell_type": "code",
   "execution_count": 238,
   "metadata": {
    "collapsed": false
   },
   "outputs": [
    {
     "data": {
      "text/plain": [
       "(2250, 3)"
      ]
     },
     "execution_count": 238,
     "metadata": {},
     "output_type": "execute_result"
    }
   ],
   "source": [
    "np.shape(X_pred_2)"
   ]
  },
  {
   "cell_type": "code",
   "execution_count": 239,
   "metadata": {
    "collapsed": true
   },
   "outputs": [],
   "source": [
    "y_pred_2 = rf_reg_model.predict(X_pred_2)"
   ]
  },
  {
   "cell_type": "code",
   "execution_count": 241,
   "metadata": {
    "collapsed": false
   },
   "outputs": [
    {
     "data": {
      "text/plain": [
       "268.63959111111109"
      ]
     },
     "execution_count": 241,
     "metadata": {},
     "output_type": "execute_result"
    }
   ],
   "source": [
    "np.mean(y_pred_2)"
   ]
  },
  {
   "cell_type": "code",
   "execution_count": 242,
   "metadata": {
    "collapsed": false
   },
   "outputs": [
    {
     "data": {
      "text/plain": [
       "233.26125541125541"
      ]
     },
     "execution_count": 242,
     "metadata": {},
     "output_type": "execute_result"
    }
   ],
   "source": [
    "np.mean(y)"
   ]
  },
  {
   "cell_type": "markdown",
   "metadata": {},
   "source": [
    "The average predicted cooling load is on the same order of magnitude as the training data, which seems sensible. Now to add predictions to the data frame, for printing to CSV."
   ]
  },
  {
   "cell_type": "code",
   "execution_count": 243,
   "metadata": {
    "collapsed": true
   },
   "outputs": [],
   "source": [
    "df_predict['SystemOnOff'] = y_pred"
   ]
  },
  {
   "cell_type": "code",
   "execution_count": 244,
   "metadata": {
    "collapsed": false
   },
   "outputs": [
    {
     "data": {
      "text/html": [
       "<div>\n",
       "<style>\n",
       "    .dataframe thead tr:only-child th {\n",
       "        text-align: right;\n",
       "    }\n",
       "\n",
       "    .dataframe thead th {\n",
       "        text-align: left;\n",
       "    }\n",
       "\n",
       "    .dataframe tbody tr th {\n",
       "        vertical-align: top;\n",
       "    }\n",
       "</style>\n",
       "<table border=\"1\" class=\"dataframe\">\n",
       "  <thead>\n",
       "    <tr style=\"text-align: right;\">\n",
       "      <th></th>\n",
       "      <th>Datetime</th>\n",
       "      <th>BuildingOccupied</th>\n",
       "      <th>OutdoorTemperature</th>\n",
       "      <th>OutdoorRelativeHumidity</th>\n",
       "      <th>SystemOnOff</th>\n",
       "    </tr>\n",
       "  </thead>\n",
       "  <tbody>\n",
       "    <tr>\n",
       "      <th>0</th>\n",
       "      <td>1/1/2018 0:00</td>\n",
       "      <td>0</td>\n",
       "      <td>48.2</td>\n",
       "      <td>87</td>\n",
       "      <td>0.0</td>\n",
       "    </tr>\n",
       "    <tr>\n",
       "      <th>1</th>\n",
       "      <td>1/1/2018 0:30</td>\n",
       "      <td>0</td>\n",
       "      <td>48.2</td>\n",
       "      <td>87</td>\n",
       "      <td>0.0</td>\n",
       "    </tr>\n",
       "    <tr>\n",
       "      <th>2</th>\n",
       "      <td>1/1/2018 1:00</td>\n",
       "      <td>0</td>\n",
       "      <td>50.0</td>\n",
       "      <td>82</td>\n",
       "      <td>0.0</td>\n",
       "    </tr>\n",
       "    <tr>\n",
       "      <th>3</th>\n",
       "      <td>1/1/2018 1:30</td>\n",
       "      <td>0</td>\n",
       "      <td>50.0</td>\n",
       "      <td>82</td>\n",
       "      <td>0.0</td>\n",
       "    </tr>\n",
       "    <tr>\n",
       "      <th>4</th>\n",
       "      <td>1/1/2018 2:00</td>\n",
       "      <td>0</td>\n",
       "      <td>50.0</td>\n",
       "      <td>82</td>\n",
       "      <td>0.0</td>\n",
       "    </tr>\n",
       "  </tbody>\n",
       "</table>\n",
       "</div>"
      ],
      "text/plain": [
       "        Datetime  BuildingOccupied  OutdoorTemperature  \\\n",
       "0  1/1/2018 0:00                 0                48.2   \n",
       "1  1/1/2018 0:30                 0                48.2   \n",
       "2  1/1/2018 1:00                 0                50.0   \n",
       "3  1/1/2018 1:30                 0                50.0   \n",
       "4  1/1/2018 2:00                 0                50.0   \n",
       "\n",
       "   OutdoorRelativeHumidity  SystemOnOff  \n",
       "0                       87          0.0  \n",
       "1                       87          0.0  \n",
       "2                       82          0.0  \n",
       "3                       82          0.0  \n",
       "4                       82          0.0  "
      ]
     },
     "execution_count": 244,
     "metadata": {},
     "output_type": "execute_result"
    }
   ],
   "source": [
    "df_predict.head()"
   ]
  },
  {
   "cell_type": "code",
   "execution_count": 245,
   "metadata": {
    "collapsed": true
   },
   "outputs": [],
   "source": [
    "df_predict['ThermalCoolingLoad'] = np.zeros(np.shape(y_pred))"
   ]
  },
  {
   "cell_type": "code",
   "execution_count": 246,
   "metadata": {
    "collapsed": false
   },
   "outputs": [
    {
     "data": {
      "text/html": [
       "<div>\n",
       "<style>\n",
       "    .dataframe thead tr:only-child th {\n",
       "        text-align: right;\n",
       "    }\n",
       "\n",
       "    .dataframe thead th {\n",
       "        text-align: left;\n",
       "    }\n",
       "\n",
       "    .dataframe tbody tr th {\n",
       "        vertical-align: top;\n",
       "    }\n",
       "</style>\n",
       "<table border=\"1\" class=\"dataframe\">\n",
       "  <thead>\n",
       "    <tr style=\"text-align: right;\">\n",
       "      <th></th>\n",
       "      <th>Datetime</th>\n",
       "      <th>BuildingOccupied</th>\n",
       "      <th>OutdoorTemperature</th>\n",
       "      <th>OutdoorRelativeHumidity</th>\n",
       "      <th>SystemOnOff</th>\n",
       "      <th>ThermalCoolingLoad</th>\n",
       "    </tr>\n",
       "  </thead>\n",
       "  <tbody>\n",
       "    <tr>\n",
       "      <th>0</th>\n",
       "      <td>1/1/2018 0:00</td>\n",
       "      <td>0</td>\n",
       "      <td>48.2</td>\n",
       "      <td>87</td>\n",
       "      <td>0.0</td>\n",
       "      <td>0.0</td>\n",
       "    </tr>\n",
       "    <tr>\n",
       "      <th>1</th>\n",
       "      <td>1/1/2018 0:30</td>\n",
       "      <td>0</td>\n",
       "      <td>48.2</td>\n",
       "      <td>87</td>\n",
       "      <td>0.0</td>\n",
       "      <td>0.0</td>\n",
       "    </tr>\n",
       "    <tr>\n",
       "      <th>2</th>\n",
       "      <td>1/1/2018 1:00</td>\n",
       "      <td>0</td>\n",
       "      <td>50.0</td>\n",
       "      <td>82</td>\n",
       "      <td>0.0</td>\n",
       "      <td>0.0</td>\n",
       "    </tr>\n",
       "    <tr>\n",
       "      <th>3</th>\n",
       "      <td>1/1/2018 1:30</td>\n",
       "      <td>0</td>\n",
       "      <td>50.0</td>\n",
       "      <td>82</td>\n",
       "      <td>0.0</td>\n",
       "      <td>0.0</td>\n",
       "    </tr>\n",
       "    <tr>\n",
       "      <th>4</th>\n",
       "      <td>1/1/2018 2:00</td>\n",
       "      <td>0</td>\n",
       "      <td>50.0</td>\n",
       "      <td>82</td>\n",
       "      <td>0.0</td>\n",
       "      <td>0.0</td>\n",
       "    </tr>\n",
       "  </tbody>\n",
       "</table>\n",
       "</div>"
      ],
      "text/plain": [
       "        Datetime  BuildingOccupied  OutdoorTemperature  \\\n",
       "0  1/1/2018 0:00                 0                48.2   \n",
       "1  1/1/2018 0:30                 0                48.2   \n",
       "2  1/1/2018 1:00                 0                50.0   \n",
       "3  1/1/2018 1:30                 0                50.0   \n",
       "4  1/1/2018 2:00                 0                50.0   \n",
       "\n",
       "   OutdoorRelativeHumidity  SystemOnOff  ThermalCoolingLoad  \n",
       "0                       87          0.0                 0.0  \n",
       "1                       87          0.0                 0.0  \n",
       "2                       82          0.0                 0.0  \n",
       "3                       82          0.0                 0.0  \n",
       "4                       82          0.0                 0.0  "
      ]
     },
     "execution_count": 246,
     "metadata": {},
     "output_type": "execute_result"
    }
   ],
   "source": [
    "df_predict.head()"
   ]
  },
  {
   "cell_type": "code",
   "execution_count": 248,
   "metadata": {
    "collapsed": false
   },
   "outputs": [],
   "source": [
    "df_predict.loc[y_pred==1, ['ThermalCoolingLoad']] = y_pred_2"
   ]
  },
  {
   "cell_type": "code",
   "execution_count": 250,
   "metadata": {
    "collapsed": false
   },
   "outputs": [],
   "source": [
    "new_df_for_csv = df_predict.filter(items = ['Datetime', 'SystemOnOff', 'ThermalCoolingLoad'])"
   ]
  },
  {
   "cell_type": "code",
   "execution_count": 252,
   "metadata": {
    "collapsed": true
   },
   "outputs": [],
   "source": [
    "new_df_for_csv.to_csv('ThermalCoolingLoad_predictions.csv', index=False)"
   ]
  },
  {
   "cell_type": "markdown",
   "metadata": {},
   "source": [
    "# Conclusion\n",
    "Overall, I used a random forest classifier to classify times when the cooling system was on, and then a random forest regression to calculate the actual loads at these times. There are several things I would explore with more time, that are already mentioned. Additionally, I would like to have tried boosted trees, which can provide additional performance over Random Forest."
   ]
  },
  {
   "cell_type": "code",
   "execution_count": null,
   "metadata": {
    "collapsed": true
   },
   "outputs": [],
   "source": []
  }
 ],
 "metadata": {
  "kernelspec": {
   "display_name": "Python 2",
   "language": "python",
   "name": "python2"
  },
  "language_info": {
   "codemirror_mode": {
    "name": "ipython",
    "version": 2
   },
   "file_extension": ".py",
   "mimetype": "text/x-python",
   "name": "python",
   "nbconvert_exporter": "python",
   "pygments_lexer": "ipython2",
   "version": "2.7.13"
  }
 },
 "nbformat": 4,
 "nbformat_minor": 2
}
